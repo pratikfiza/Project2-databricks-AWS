{
 "cells": [
  {
   "cell_type": "code",
   "execution_count": null,
   "id": "8c80943c",
   "metadata": {
    "vscode": {
     "languageId": "plaintext"
    }
   },
   "outputs": [],
   "source": [
    "# Databricks notebook (script) - 01_ingest_raw\n",
    "# This notebook demonstrates reading raw JSON from S3 and writing a small sample\n",
    "df = spark.read.json(\"s3a://my-youtube-bucket/raw/*/*.json\")\n",
    "display(df.limit(5))"
   ]
  }
 ],
 "metadata": {
  "language_info": {
   "name": "python"
  }
 },
 "nbformat": 4,
 "nbformat_minor": 5
}
