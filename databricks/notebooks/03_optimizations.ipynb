{
 "cells": [
  {
   "cell_type": "code",
   "execution_count": null,
   "id": "c6d3ccc7",
   "metadata": {
    "vscode": {
     "languageId": "plaintext"
    }
   },
   "outputs": [],
   "source": [
    "# Databricks notebook - 03_optimizations\n",
    "from pyspark.sql import functions as F\n",
    "\n",
    "curated_path = \"s3a://my-youtube-bucket/curated/youtube/\"\n",
    "df = spark.read.format(\"delta\").load(curated_path)\n",
    "\n",
    "# Caching example\n",
    "df.cache()\n",
    "print('Count:', df.count())\n",
    "\n",
    "# Window function example: top 3 per channel\n",
    "from pyspark.sql.window import Window\n",
    "w = Window.partitionBy(\"channel_title\").orderBy(F.col(\"published_ts\").desc())\n",
    "ranked = df.withColumn(\"rank\", F.row_number().over(w))\n",
    "display(ranked.filter(F.col(\"rank\") <= 3).limit(20))\n"
   ]
  }
 ],
 "metadata": {
  "language_info": {
   "name": "python"
  }
 },
 "nbformat": 4,
 "nbformat_minor": 5
}
